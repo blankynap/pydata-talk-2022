{
 "cells": [
  {
   "cell_type": "markdown",
   "id": "0fdfbafe",
   "metadata": {},
   "source": [
    "# pathlib"
   ]
  },
  {
   "cell_type": "markdown",
   "id": "23aa8be5",
   "metadata": {},
   "source": [
    "This module offers classes representing filesystem paths (with semantics appropriate for different operating systems.)\n",
    "\n",
    "No - need to install, as of python 3.4 it's standard lib.\n",
    "\n",
    "For more information see documentation: https://docs.python.org/3/library/pathlib.html"
   ]
  },
  {
   "cell_type": "code",
   "execution_count": 8,
   "id": "86b76ba1",
   "metadata": {},
   "outputs": [],
   "source": [
    "from pathlib import Path"
   ]
  },
  {
   "cell_type": "markdown",
   "id": "f5a9b7a4",
   "metadata": {},
   "source": [
    "### Introducing the Path class"
   ]
  },
  {
   "cell_type": "code",
   "execution_count": 9,
   "id": "edd9f700",
   "metadata": {},
   "outputs": [],
   "source": [
    "cwd_path = Path('.')"
   ]
  },
  {
   "cell_type": "code",
   "execution_count": 5,
   "id": "e6baef94",
   "metadata": {},
   "outputs": [
    {
     "data": {
      "text/plain": [
       "PosixPath('.')"
      ]
     },
     "execution_count": 5,
     "metadata": {},
     "output_type": "execute_result"
    }
   ],
   "source": [
    "cwd_path"
   ]
  },
  {
   "cell_type": "code",
   "execution_count": 6,
   "id": "255c8e80",
   "metadata": {},
   "outputs": [
    {
     "data": {
      "text/plain": [
       "PosixPath('/Users/simonward-jones/Documents/repos/pydata-talk-2022/code/notebooks')"
      ]
     },
     "execution_count": 6,
     "metadata": {},
     "output_type": "execute_result"
    }
   ],
   "source": [
    "cwd_path.absolute()"
   ]
  },
  {
   "cell_type": "code",
   "execution_count": 7,
   "id": "74942291",
   "metadata": {},
   "outputs": [
    {
     "data": {
      "text/plain": [
       "PosixPath('/Users/simonward-jones/Documents/repos/pydata-talk-2022/code/notebooks')"
      ]
     },
     "execution_count": 7,
     "metadata": {},
     "output_type": "execute_result"
    }
   ],
   "source": [
    "Path.cwd()"
   ]
  },
  {
   "cell_type": "markdown",
   "id": "3692c95a",
   "metadata": {},
   "source": [
    "### Building paths"
   ]
  },
  {
   "cell_type": "code",
   "execution_count": null,
   "id": "33cc6fa6",
   "metadata": {},
   "outputs": [],
   "source": [
    "image_folder = cwd_path.joinpath('data').joinpath('images')"
   ]
  },
  {
   "cell_type": "code",
   "execution_count": null,
   "id": "72cd73bc",
   "metadata": {},
   "outputs": [],
   "source": [
    "image_folder"
   ]
  },
  {
   "cell_type": "code",
   "execution_count": null,
   "id": "333c885f",
   "metadata": {},
   "outputs": [],
   "source": [
    "image_folder = cwd_path / 'data' / 'images'"
   ]
  },
  {
   "cell_type": "code",
   "execution_count": null,
   "id": "966a2373",
   "metadata": {},
   "outputs": [],
   "source": [
    "image_folder"
   ]
  },
  {
   "cell_type": "code",
   "execution_count": null,
   "id": "66238444",
   "metadata": {},
   "outputs": [],
   "source": [
    "image_folder = Path('./data/images')"
   ]
  },
  {
   "cell_type": "code",
   "execution_count": null,
   "id": "ed5ea999",
   "metadata": {},
   "outputs": [],
   "source": [
    "image_folder"
   ]
  },
  {
   "cell_type": "code",
   "execution_count": null,
   "id": "954058eb",
   "metadata": {},
   "outputs": [],
   "source": [
    "zebra_path = image_folder / 'zebra.jpeg'"
   ]
  },
  {
   "cell_type": "code",
   "execution_count": null,
   "id": "9a5d8153",
   "metadata": {},
   "outputs": [],
   "source": [
    "from PIL import Image\n",
    "\n",
    "Image.open(zebra_path) # Uncomment me :-)"
   ]
  },
  {
   "cell_type": "markdown",
   "id": "c0053e88",
   "metadata": {},
   "source": [
    "### File parts and parents"
   ]
  },
  {
   "cell_type": "code",
   "execution_count": null,
   "id": "23fea9ee",
   "metadata": {},
   "outputs": [],
   "source": [
    "zebra_path"
   ]
  },
  {
   "cell_type": "code",
   "execution_count": null,
   "id": "a8fc281d",
   "metadata": {},
   "outputs": [],
   "source": [
    "zebra_path.name"
   ]
  },
  {
   "cell_type": "code",
   "execution_count": null,
   "id": "c109f7b9",
   "metadata": {},
   "outputs": [],
   "source": [
    "zebra_path.suffix"
   ]
  },
  {
   "cell_type": "code",
   "execution_count": null,
   "id": "2e9f67ad",
   "metadata": {},
   "outputs": [],
   "source": [
    "zebra_path.stem"
   ]
  },
  {
   "cell_type": "code",
   "execution_count": null,
   "id": "e582cb36",
   "metadata": {},
   "outputs": [],
   "source": [
    "zebra_path.drive # things like C:// in windows"
   ]
  },
  {
   "cell_type": "code",
   "execution_count": null,
   "id": "ec13bbf8",
   "metadata": {},
   "outputs": [],
   "source": [
    "# get a string reprsentation of the path\n",
    "str(zebra_path)"
   ]
  },
  {
   "cell_type": "code",
   "execution_count": null,
   "id": "2321d69e",
   "metadata": {},
   "outputs": [],
   "source": [
    "zebra_path.parent"
   ]
  },
  {
   "cell_type": "code",
   "execution_count": null,
   "id": "8dcede7e",
   "metadata": {},
   "outputs": [],
   "source": [
    "zebra_path.parent.parent"
   ]
  },
  {
   "cell_type": "code",
   "execution_count": null,
   "id": "422e476c",
   "metadata": {},
   "outputs": [],
   "source": [
    "list(zebra_path.parents)"
   ]
  },
  {
   "cell_type": "code",
   "execution_count": null,
   "id": "10741120",
   "metadata": {},
   "outputs": [],
   "source": [
    "list(zebra_path.absolute().parents)"
   ]
  },
  {
   "cell_type": "code",
   "execution_count": null,
   "id": "2f299594",
   "metadata": {},
   "outputs": [],
   "source": [
    "zebra_path.absolute().parts"
   ]
  },
  {
   "cell_type": "markdown",
   "id": "ac8fa981",
   "metadata": {},
   "source": [
    "### changing the name stem or file extension!"
   ]
  },
  {
   "cell_type": "code",
   "execution_count": null,
   "id": "ce826fd9",
   "metadata": {},
   "outputs": [],
   "source": [
    "zebra_path"
   ]
  },
  {
   "cell_type": "code",
   "execution_count": null,
   "id": "d21cda2b",
   "metadata": {},
   "outputs": [],
   "source": [
    "zebra_path.with_suffix('.py')"
   ]
  },
  {
   "cell_type": "code",
   "execution_count": null,
   "id": "fc5d6f42",
   "metadata": {},
   "outputs": [],
   "source": [
    "zebra_path.with_stem('new_name') #.with_suffix('.md')"
   ]
  },
  {
   "cell_type": "code",
   "execution_count": null,
   "id": "c0561e68",
   "metadata": {},
   "outputs": [],
   "source": [
    "zebra_path.with_name('simon.txt')"
   ]
  },
  {
   "cell_type": "markdown",
   "id": "a17054cf",
   "metadata": {},
   "source": [
    "### Other useful Methods"
   ]
  },
  {
   "cell_type": "code",
   "execution_count": null,
   "id": "71e44a6b",
   "metadata": {},
   "outputs": [],
   "source": [
    "Path.home()"
   ]
  },
  {
   "cell_type": "code",
   "execution_count": null,
   "id": "b0ca21b6",
   "metadata": {},
   "outputs": [],
   "source": [
    "# This doesn't Give us the correct absolute Path!\n",
    "Path('~/Documents').absolute()"
   ]
  },
  {
   "cell_type": "code",
   "execution_count": null,
   "id": "0633bbd3",
   "metadata": {},
   "outputs": [],
   "source": [
    "Path('~/Documents').expanduser()"
   ]
  },
  {
   "cell_type": "code",
   "execution_count": null,
   "id": "9e6ea554",
   "metadata": {},
   "outputs": [],
   "source": [
    "zebra_path"
   ]
  },
  {
   "cell_type": "code",
   "execution_count": null,
   "id": "c2c20c54",
   "metadata": {},
   "outputs": [],
   "source": [
    "zebra_path.exists()"
   ]
  },
  {
   "cell_type": "code",
   "execution_count": null,
   "id": "62a2f6ff",
   "metadata": {},
   "outputs": [],
   "source": [
    "Path('filethatdoesnotexist.txt').exists()"
   ]
  },
  {
   "cell_type": "code",
   "execution_count": null,
   "id": "0a599b4a",
   "metadata": {},
   "outputs": [],
   "source": [
    "zebra_path.is_file()"
   ]
  },
  {
   "cell_type": "code",
   "execution_count": null,
   "id": "4befe442",
   "metadata": {},
   "outputs": [],
   "source": [
    "zebra_path.is_dir()"
   ]
  },
  {
   "cell_type": "markdown",
   "id": "5cd94337",
   "metadata": {},
   "source": [
    "### File operations and reading/writing"
   ]
  },
  {
   "cell_type": "code",
   "execution_count": null,
   "id": "bbe1d96f",
   "metadata": {},
   "outputs": [],
   "source": [
    "new_sub_folder_path = Path('new_folder/new_subfolder')"
   ]
  },
  {
   "cell_type": "code",
   "execution_count": null,
   "id": "5749ac3e",
   "metadata": {},
   "outputs": [],
   "source": [
    "new_file_path = new_sub_folder_path / 'example_file.txt'"
   ]
  },
  {
   "cell_type": "code",
   "execution_count": null,
   "id": "a97e18eb",
   "metadata": {},
   "outputs": [],
   "source": [
    "new_sub_folder_path.exists()"
   ]
  },
  {
   "cell_type": "code",
   "execution_count": null,
   "id": "341a2aa7",
   "metadata": {},
   "outputs": [],
   "source": [
    "# change this to parents=True # Run again and show error then add exist_ok\n",
    "new_sub_folder_path.mkdir(parents=True, exist_ok=True) "
   ]
  },
  {
   "cell_type": "code",
   "execution_count": null,
   "id": "63d711ce",
   "metadata": {},
   "outputs": [],
   "source": [
    "new_sub_folder_path.exists()"
   ]
  },
  {
   "cell_type": "code",
   "execution_count": null,
   "id": "0b9fb74f",
   "metadata": {},
   "outputs": [],
   "source": [
    "new_file_path.write_text(\"# Text in new file\")"
   ]
  },
  {
   "cell_type": "code",
   "execution_count": null,
   "id": "3c080c36",
   "metadata": {},
   "outputs": [],
   "source": [
    "new_file_path.read_text()"
   ]
  },
  {
   "cell_type": "markdown",
   "id": "47053886",
   "metadata": {},
   "source": [
    "### Renaming a file"
   ]
  },
  {
   "cell_type": "code",
   "execution_count": null,
   "id": "5330e39b",
   "metadata": {},
   "outputs": [],
   "source": [
    "moved_file_location = new_file_path.parent.parent / 'new_location.py'"
   ]
  },
  {
   "cell_type": "code",
   "execution_count": null,
   "id": "c4cd5ac1",
   "metadata": {},
   "outputs": [],
   "source": [
    "moved_file_location"
   ]
  },
  {
   "cell_type": "code",
   "execution_count": null,
   "id": "7f562b2c",
   "metadata": {},
   "outputs": [],
   "source": [
    "if not moved_file_location.exists():\n",
    "    new_file_path.rename(moved_file_location)\n",
    "    \n",
    "# NO WARNING if overwriting so be careful!"
   ]
  },
  {
   "cell_type": "code",
   "execution_count": null,
   "id": "8857750c",
   "metadata": {},
   "outputs": [],
   "source": [
    "moved_file_location.exists()"
   ]
  },
  {
   "cell_type": "markdown",
   "id": "cac6bc35",
   "metadata": {},
   "source": [
    "### Deleting dirs and files"
   ]
  },
  {
   "cell_type": "code",
   "execution_count": null,
   "id": "eaee5ce8",
   "metadata": {},
   "outputs": [],
   "source": [
    "# unlink delete it if it is there.\n",
    "new_file_path.unlink(missing_ok=True) \n",
    "moved_file_location.unlink(missing_ok=True)"
   ]
  },
  {
   "cell_type": "code",
   "execution_count": null,
   "id": "6bd643b6",
   "metadata": {},
   "outputs": [],
   "source": [
    "# Remove an empty directory\n",
    "if new_sub_folder_path.is_dir():\n",
    "    new_sub_folder_path.rmdir()\n",
    "if new_sub_folder_path.parent.is_dir():\n",
    "    new_sub_folder_path.parent.rmdir()"
   ]
  },
  {
   "cell_type": "markdown",
   "id": "6af06c75",
   "metadata": {},
   "source": [
    "### Iterating on a dir."
   ]
  },
  {
   "cell_type": "code",
   "execution_count": null,
   "id": "adf29e10",
   "metadata": {},
   "outputs": [],
   "source": [
    "list_directory = [path for path in cwd_path.iterdir()]"
   ]
  },
  {
   "cell_type": "code",
   "execution_count": null,
   "id": "c8815310",
   "metadata": {},
   "outputs": [],
   "source": [
    "list_directory"
   ]
  },
  {
   "cell_type": "code",
   "execution_count": null,
   "id": "a8913f9e",
   "metadata": {},
   "outputs": [],
   "source": [
    "[path for path in cwd_path.glob('*.ipynb')]"
   ]
  },
  {
   "cell_type": "code",
   "execution_count": null,
   "id": "ea12bdb8",
   "metadata": {},
   "outputs": [],
   "source": [
    "[path for path in cwd_path.glob('*.jpeg')]"
   ]
  },
  {
   "cell_type": "code",
   "execution_count": null,
   "id": "4a3781e7",
   "metadata": {},
   "outputs": [],
   "source": [
    "# We can do recursive matching using double **\n",
    "[path for path in cwd_path.glob('**/*.jpeg')]"
   ]
  },
  {
   "cell_type": "code",
   "execution_count": null,
   "id": "4e7e4d68",
   "metadata": {},
   "outputs": [],
   "source": [
    "# Or by using the recursive glob matching\n",
    "[path for path in cwd_path.rglob('*.jpeg')]"
   ]
  },
  {
   "cell_type": "markdown",
   "id": "6578c9c0",
   "metadata": {},
   "source": [
    "# Fin."
   ]
  }
 ],
 "metadata": {
  "kernelspec": {
   "display_name": "Python 3 (ipykernel)",
   "language": "python",
   "name": "python3"
  },
  "language_info": {
   "codemirror_mode": {
    "name": "ipython",
    "version": 3
   },
   "file_extension": ".py",
   "mimetype": "text/x-python",
   "name": "python",
   "nbconvert_exporter": "python",
   "pygments_lexer": "ipython3",
   "version": "3.10.2"
  },
  "toc": {
   "base_numbering": 1,
   "nav_menu": {},
   "number_sections": true,
   "sideBar": true,
   "skip_h1_title": false,
   "title_cell": "Table of Contents",
   "title_sidebar": "Contents",
   "toc_cell": false,
   "toc_position": {
    "height": "calc(100% - 180px)",
    "left": "10px",
    "top": "150px",
    "width": "357.457px"
   },
   "toc_section_display": true,
   "toc_window_display": false
  }
 },
 "nbformat": 4,
 "nbformat_minor": 5
}
