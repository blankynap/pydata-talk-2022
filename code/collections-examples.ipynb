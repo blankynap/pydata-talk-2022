{
 "cells": [
  {
   "cell_type": "markdown",
   "id": "2e4e5db5",
   "metadata": {},
   "source": [
    "# collections"
   ]
  },
  {
   "cell_type": "markdown",
   "id": "27c1d8ef",
   "metadata": {},
   "source": [
    "This module implements specialized container datatypes providing alternatives to Python’s general purpose built-in containers, dict, list, set, and tuple.\n",
    "\n",
    "For more information see the documentation: https://docs.python.org/3/library/collections.html"
   ]
  },
  {
   "cell_type": "markdown",
   "id": "33def76b",
   "metadata": {},
   "source": [
    "A brief overview:"
   ]
  },
  {
   "cell_type": "markdown",
   "id": "b4a0ed3d",
   "metadata": {},
   "source": [
    "| Name         | Description                                                          |\n",
    "| ------------ | -------------------------------------------------------------------- |\n",
    "| namedtuple() | factory function for creating tuple subclasses with named fields     |\n",
    "| deque        | list-like container with fast appends and pops on either end         |\n",
    "| ChainMap     | dict-like class for creating a single view of multiple mappings      |\n",
    "| Counter      | dict subclass for counting hashable objects                          |\n",
    "| OrderedDict  | dict subclass that remembers the order entries were added            |\n",
    "| defaultdict  | dict subclass that calls a factory function to supply missing values |\n",
    "| UserDict     | wrapper around dictionary objects for easier dict subclassing        |\n",
    "| UserList     | wrapper around list objects for easier list subclassing              |\n",
    "| UserString   | wrapper around string objects for easier string subclassing          |\n"
   ]
  },
  {
   "cell_type": "code",
   "execution_count": 54,
   "id": "a1d63dc9",
   "metadata": {},
   "outputs": [],
   "source": [
    "from collections import namedtuple\n",
    "from collections import deque\n",
    "from collections import ChainMap\n",
    "from collections import Counter\n",
    "from collections import OrderedDict\n",
    "from collections import defaultdict\n",
    "from collections import UserDict\n",
    "from collections import UserList\n",
    "from collections import UserString"
   ]
  },
  {
   "cell_type": "markdown",
   "id": "9fdcb8ae",
   "metadata": {},
   "source": [
    "### ChainMap"
   ]
  },
  {
   "cell_type": "markdown",
   "id": "7ee0c220",
   "metadata": {},
   "source": [
    "A Counter is a dict subclass for counting hashable objects. It is a collection where elements are stored as dictionary keys and their counts are stored as dictionary values."
   ]
  },
  {
   "cell_type": "code",
   "execution_count": 55,
   "id": "a306fd86",
   "metadata": {},
   "outputs": [],
   "source": [
    "# source https://en.wikipedia.org/wiki/List_of_heaviest_land_mammals\n",
    "\n",
    "heavy_anmials = {\n",
    "    'African elephant': 6600,\n",
    "    'Asian elephant': 3700,\n",
    "    'White rhinoceros': 3300,\n",
    "    'Hippopotamus': 2105,\n",
    "    'Black rhinoceros': 1873\n",
    "}\n",
    "\n",
    "lighter_animals = {\n",
    "    'Giraffe': 1050,\n",
    "    'Gaur': 975,\n",
    "    'Bison': 970,\n",
    "    'Wild water buffalo': 900,\n",
    "    'Wild yak': 850\n",
    "}"
   ]
  },
  {
   "cell_type": "code",
   "execution_count": 56,
   "id": "9a665185",
   "metadata": {},
   "outputs": [],
   "source": [
    "animals = ChainMap(heavy_anmials, lighter_animals, {})\n",
    "# The chain map searches in each map in order."
   ]
  },
  {
   "cell_type": "code",
   "execution_count": 57,
   "id": "e988c16d",
   "metadata": {},
   "outputs": [
    {
     "data": {
      "text/plain": [
       "6600"
      ]
     },
     "execution_count": 57,
     "metadata": {},
     "output_type": "execute_result"
    }
   ],
   "source": [
    "animals['African elephant']"
   ]
  },
  {
   "cell_type": "code",
   "execution_count": 58,
   "id": "5a77fb08",
   "metadata": {},
   "outputs": [
    {
     "data": {
      "text/plain": [
       "1050"
      ]
     },
     "execution_count": 58,
     "metadata": {},
     "output_type": "execute_result"
    }
   ],
   "source": [
    "animals['Giraffe']"
   ]
  },
  {
   "cell_type": "code",
   "execution_count": 59,
   "id": "db428e0b",
   "metadata": {},
   "outputs": [],
   "source": [
    "# Writes and deletes all occur on the first map.\n",
    "animals['Human'] = 75"
   ]
  },
  {
   "cell_type": "code",
   "execution_count": 60,
   "id": "771d01b9",
   "metadata": {},
   "outputs": [
    {
     "data": {
      "text/plain": [
       "{'African elephant': 6600,\n",
       " 'Asian elephant': 3700,\n",
       " 'White rhinoceros': 3300,\n",
       " 'Hippopotamus': 2105,\n",
       " 'Black rhinoceros': 1873,\n",
       " 'Human': 75}"
      ]
     },
     "execution_count": 60,
     "metadata": {},
     "output_type": "execute_result"
    }
   ],
   "source": [
    "heavy_anmials"
   ]
  },
  {
   "cell_type": "code",
   "execution_count": 61,
   "id": "14afcbad",
   "metadata": {},
   "outputs": [
    {
     "data": {
      "text/plain": [
       "[{'African elephant': 6600,\n",
       "  'Asian elephant': 3700,\n",
       "  'White rhinoceros': 3300,\n",
       "  'Hippopotamus': 2105,\n",
       "  'Black rhinoceros': 1873,\n",
       "  'Human': 75},\n",
       " {'Giraffe': 1050,\n",
       "  'Gaur': 975,\n",
       "  'Bison': 970,\n",
       "  'Wild water buffalo': 900,\n",
       "  'Wild yak': 850},\n",
       " {}]"
      ]
     },
     "execution_count": 61,
     "metadata": {},
     "output_type": "execute_result"
    }
   ],
   "source": [
    "animals.maps"
   ]
  },
  {
   "cell_type": "code",
   "execution_count": 62,
   "id": "c51acbd9",
   "metadata": {},
   "outputs": [
    {
     "name": "stdout",
     "output_type": "stream",
     "text": [
      "Giraffe 1050\n",
      "Gaur 975\n",
      "Bison 970\n",
      "Wild water buffalo 900\n",
      "Wild yak 850\n",
      "African elephant 6600\n",
      "Asian elephant 3700\n",
      "White rhinoceros 3300\n",
      "Hippopotamus 2105\n",
      "Black rhinoceros 1873\n",
      "Human 75\n"
     ]
    }
   ],
   "source": [
    "for x, y in animals.items():\n",
    "    print(x, y)"
   ]
  },
  {
   "cell_type": "code",
   "execution_count": 63,
   "id": "1968d3de",
   "metadata": {},
   "outputs": [
    {
     "data": {
      "text/plain": [
       "{'Giraffe': 1050,\n",
       " 'Gaur': 975,\n",
       " 'Bison': 970,\n",
       " 'Wild water buffalo': 900,\n",
       " 'Wild yak': 850,\n",
       " 'African elephant': 6600,\n",
       " 'Asian elephant': 3700,\n",
       " 'White rhinoceros': 3300,\n",
       " 'Hippopotamus': 2105,\n",
       " 'Black rhinoceros': 1873,\n",
       " 'Human': 75}"
      ]
     },
     "execution_count": 63,
     "metadata": {},
     "output_type": "execute_result"
    }
   ],
   "source": [
    "# You can think of animals similar to merging the dicts but without the \n",
    "# re-writing.\n",
    "animals = lighter_animals.copy()\n",
    "animals.update(heavy_anmials)\n",
    "animals"
   ]
  },
  {
   "cell_type": "code",
   "execution_count": 64,
   "id": "e5a85248",
   "metadata": {},
   "outputs": [],
   "source": [
    "# Similar to:\n",
    "animals = {**lighter_animals, **heavy_anmials}"
   ]
  },
  {
   "cell_type": "markdown",
   "id": "b7704c64",
   "metadata": {},
   "source": [
    "### Counter"
   ]
  },
  {
   "cell_type": "markdown",
   "id": "1f396250",
   "metadata": {},
   "source": [
    "A Counter is a dict subclass for counting hashable objects. It is a collection where elements are stored as dictionary keys and their counts are stored as dictionary values."
   ]
  },
  {
   "cell_type": "code",
   "execution_count": 65,
   "id": "2ead82b1",
   "metadata": {},
   "outputs": [
    {
     "data": {
      "text/plain": [
       "Counter({'m': 1, 'i': 4, 's': 3, 'p': 2})"
      ]
     },
     "execution_count": 65,
     "metadata": {},
     "output_type": "execute_result"
    }
   ],
   "source": [
    "# From an string (iterable)\n",
    "counter = Counter('misissippi')\n",
    "counter"
   ]
  },
  {
   "cell_type": "code",
   "execution_count": 66,
   "id": "5f4afeff",
   "metadata": {},
   "outputs": [
    {
     "data": {
      "text/plain": [
       "Counter({'cat': 3, 'dog': 2, 'gold fish': 1})"
      ]
     },
     "execution_count": 66,
     "metadata": {},
     "output_type": "execute_result"
    }
   ],
   "source": [
    "# From an iterable\n",
    "counter = Counter([\"cat\", \"cat\", \"dog\", \"dog\", \"cat\", \"gold fish\"])\n",
    "counter"
   ]
  },
  {
   "cell_type": "code",
   "execution_count": 67,
   "id": "090dd512",
   "metadata": {},
   "outputs": [
    {
     "data": {
      "text/plain": [
       "Counter({'cat': 3, 'dog': 2, 'gold fish': 1})"
      ]
     },
     "execution_count": 67,
     "metadata": {},
     "output_type": "execute_result"
    }
   ],
   "source": [
    "# From dict\n",
    "counter = Counter({'cat': 3, 'dog': 2, 'gold fish': 1})\n",
    "counter"
   ]
  },
  {
   "cell_type": "code",
   "execution_count": 68,
   "id": "83345b3a",
   "metadata": {},
   "outputs": [
    {
     "data": {
      "text/plain": [
       "0"
      ]
     },
     "execution_count": 68,
     "metadata": {},
     "output_type": "execute_result"
    }
   ],
   "source": [
    "# Missing elements have 0 \n",
    "counter['shark']"
   ]
  },
  {
   "cell_type": "code",
   "execution_count": 69,
   "id": "694912a8",
   "metadata": {},
   "outputs": [
    {
     "data": {
      "text/plain": [
       "['cat', 'cat', 'cat', 'dog', 'dog', 'gold fish']"
      ]
     },
     "execution_count": 69,
     "metadata": {},
     "output_type": "execute_result"
    }
   ],
   "source": [
    "list(counter.elements())"
   ]
  },
  {
   "cell_type": "code",
   "execution_count": 70,
   "id": "394ef2ee",
   "metadata": {},
   "outputs": [
    {
     "data": {
      "text/plain": [
       "[('cat', 3), ('dog', 2)]"
      ]
     },
     "execution_count": 70,
     "metadata": {},
     "output_type": "execute_result"
    }
   ],
   "source": [
    "counter.most_common(2)"
   ]
  },
  {
   "cell_type": "code",
   "execution_count": 71,
   "id": "7a838d53",
   "metadata": {},
   "outputs": [
    {
     "data": {
      "text/plain": [
       "[('gold fish', 1), ('dog', 2)]"
      ]
     },
     "execution_count": 71,
     "metadata": {},
     "output_type": "execute_result"
    }
   ],
   "source": [
    "# find the two least common animals\n",
    "counter.most_common()[:-3:-1]"
   ]
  },
  {
   "cell_type": "code",
   "execution_count": 72,
   "id": "354bff39",
   "metadata": {},
   "outputs": [
    {
     "data": {
      "text/plain": [
       "6"
      ]
     },
     "execution_count": 72,
     "metadata": {},
     "output_type": "execute_result"
    }
   ],
   "source": [
    "counter.total()"
   ]
  },
  {
   "cell_type": "code",
   "execution_count": 73,
   "id": "e9ea61ff",
   "metadata": {},
   "outputs": [],
   "source": [
    "another_counter = Counter({'cat': -3, 'dog': 10})"
   ]
  },
  {
   "cell_type": "code",
   "execution_count": 74,
   "id": "b9b88571",
   "metadata": {},
   "outputs": [
    {
     "data": {
      "text/plain": [
       "Counter({'dog': 12, 'gold fish': 1})"
      ]
     },
     "execution_count": 74,
     "metadata": {},
     "output_type": "execute_result"
    }
   ],
   "source": [
    "counter + another_counter"
   ]
  },
  {
   "cell_type": "code",
   "execution_count": 75,
   "id": "c5bfc7f9",
   "metadata": {},
   "outputs": [],
   "source": [
    "# You can increment the values like so:\n",
    "counter['dog'] += 1"
   ]
  },
  {
   "cell_type": "markdown",
   "id": "0edfbfc7",
   "metadata": {},
   "source": [
    "### deque"
   ]
  },
  {
   "cell_type": "markdown",
   "id": "8f271dbf",
   "metadata": {},
   "source": [
    "Deques support thread-safe, memory efficient appends and pops from either side of the deque with approximately the same O(1) performance in either direction"
   ]
  },
  {
   "cell_type": "code",
   "execution_count": 76,
   "id": "a1f501b8",
   "metadata": {},
   "outputs": [],
   "source": [
    "example_list = list(range(50_000))"
   ]
  },
  {
   "cell_type": "code",
   "execution_count": 77,
   "id": "2673685d",
   "metadata": {},
   "outputs": [
    {
     "name": "stdout",
     "output_type": "stream",
     "text": [
      "132 ns ± 65.3 ns per loop (mean ± std. dev. of 7 runs, 1 loop each)\n"
     ]
    }
   ],
   "source": [
    "%%timeit\n",
    "while example_list:\n",
    "    example_list.pop(-1)\n",
    "    example_list.pop(0)"
   ]
  },
  {
   "cell_type": "code",
   "execution_count": 78,
   "id": "ee51cc58",
   "metadata": {},
   "outputs": [],
   "source": [
    "example_deque = deque(range(50_000))"
   ]
  },
  {
   "cell_type": "code",
   "execution_count": 79,
   "id": "97f7c2ba",
   "metadata": {},
   "outputs": [
    {
     "name": "stdout",
     "output_type": "stream",
     "text": [
      "20.5 ns ± 0.227 ns per loop (mean ± std. dev. of 7 runs, 10,000,000 loops each)\n"
     ]
    }
   ],
   "source": [
    "%%timeit\n",
    "while example_deque:\n",
    "    example_deque.pop()\n",
    "    example_deque.popleft()"
   ]
  },
  {
   "cell_type": "code",
   "execution_count": 80,
   "id": "c4216241",
   "metadata": {},
   "outputs": [],
   "source": [
    "example_deque = deque(range(5))"
   ]
  },
  {
   "cell_type": "code",
   "execution_count": 81,
   "id": "f3424437",
   "metadata": {},
   "outputs": [
    {
     "data": {
      "text/plain": [
       "deque([0, 1, 2, 3, 4])"
      ]
     },
     "execution_count": 81,
     "metadata": {},
     "output_type": "execute_result"
    }
   ],
   "source": [
    "example_deque"
   ]
  },
  {
   "cell_type": "code",
   "execution_count": 82,
   "id": "9f10a0b1",
   "metadata": {},
   "outputs": [],
   "source": [
    "example_deque.append(5)\n",
    "example_deque.appendleft(-1)"
   ]
  },
  {
   "cell_type": "code",
   "execution_count": 83,
   "id": "317cc696",
   "metadata": {},
   "outputs": [
    {
     "data": {
      "text/plain": [
       "deque([-1, 0, 1, 2, 3, 4, 5])"
      ]
     },
     "execution_count": 83,
     "metadata": {},
     "output_type": "execute_result"
    }
   ],
   "source": [
    "example_deque"
   ]
  },
  {
   "cell_type": "code",
   "execution_count": 84,
   "id": "5e432c46",
   "metadata": {},
   "outputs": [
    {
     "data": {
      "text/plain": [
       "deque([-4, -3, -2, -1, 0, 1, 2, 3, 4, 5, 6, 7, 8])"
      ]
     },
     "execution_count": 84,
     "metadata": {},
     "output_type": "execute_result"
    }
   ],
   "source": [
    "example_deque.extend([6, 7, 8])\n",
    "example_deque.extendleft([-2, -3, -4]) # Note the ordering.\n",
    "example_deque"
   ]
  },
  {
   "cell_type": "code",
   "execution_count": 85,
   "id": "58ddfcf0",
   "metadata": {},
   "outputs": [
    {
     "data": {
      "text/plain": [
       "7"
      ]
     },
     "execution_count": 85,
     "metadata": {},
     "output_type": "execute_result"
    }
   ],
   "source": [
    "example_deque.index(3)"
   ]
  },
  {
   "cell_type": "code",
   "execution_count": 86,
   "id": "c9f4a53e",
   "metadata": {},
   "outputs": [
    {
     "data": {
      "text/plain": [
       "deque([-4, -3, -2, -1, 0, 1, 2, 5, 3, 4, 5, 6, 7, 8])"
      ]
     },
     "execution_count": 86,
     "metadata": {},
     "output_type": "execute_result"
    }
   ],
   "source": [
    "example_deque.insert(7, 5)\n",
    "example_deque"
   ]
  },
  {
   "cell_type": "code",
   "execution_count": 87,
   "id": "4bdf1570",
   "metadata": {},
   "outputs": [
    {
     "data": {
      "text/plain": [
       "deque([-4, -3, -2, -1, 0, 1, 2, 3, 4, 5, 6, 7, 8])"
      ]
     },
     "execution_count": 87,
     "metadata": {},
     "output_type": "execute_result"
    }
   ],
   "source": [
    "# remove first occurence\n",
    "example_deque.remove(5)\n",
    "example_deque"
   ]
  },
  {
   "cell_type": "code",
   "execution_count": 88,
   "id": "b520f572",
   "metadata": {},
   "outputs": [],
   "source": [
    "# This is inplace.\n",
    "example_deque.reverse()"
   ]
  },
  {
   "cell_type": "code",
   "execution_count": 89,
   "id": "1a571c56",
   "metadata": {},
   "outputs": [
    {
     "data": {
      "text/plain": [
       "deque([8, 7, 6, 5, 4, 3, 2, 1, 0, -1, -2, -3, -4])"
      ]
     },
     "execution_count": 89,
     "metadata": {},
     "output_type": "execute_result"
    }
   ],
   "source": [
    "example_deque"
   ]
  },
  {
   "cell_type": "markdown",
   "id": "44d6b970",
   "metadata": {},
   "source": [
    "deque with maxlen"
   ]
  },
  {
   "cell_type": "code",
   "execution_count": 90,
   "id": "28f2547e",
   "metadata": {},
   "outputs": [
    {
     "data": {
      "text/plain": [
       "deque([0, 1, 2, 3, 4])"
      ]
     },
     "execution_count": 90,
     "metadata": {},
     "output_type": "execute_result"
    }
   ],
   "source": [
    "limited_deque = deque(range(5), maxlen=5)\n",
    "limited_deque"
   ]
  },
  {
   "cell_type": "code",
   "execution_count": 91,
   "id": "cb985f23",
   "metadata": {},
   "outputs": [
    {
     "data": {
      "text/plain": [
       "deque([1, 2, 3, 4, 5])"
      ]
     },
     "execution_count": 91,
     "metadata": {},
     "output_type": "execute_result"
    }
   ],
   "source": [
    "# note this pops off the 0\n",
    "limited_deque.append(5)\n",
    "limited_deque"
   ]
  },
  {
   "cell_type": "code",
   "execution_count": 92,
   "id": "871238df",
   "metadata": {},
   "outputs": [
    {
     "data": {
      "text/plain": [
       "deque([0, 1, 2, 3, 4])"
      ]
     },
     "execution_count": 92,
     "metadata": {},
     "output_type": "execute_result"
    }
   ],
   "source": [
    "# this pushes off the 5 off the other end\n",
    "limited_deque.appendleft(0)\n",
    "limited_deque"
   ]
  },
  {
   "cell_type": "code",
   "execution_count": 93,
   "id": "3a6d4449",
   "metadata": {},
   "outputs": [
    {
     "data": {
      "text/plain": [
       "deque([3, 4, 5, 6, 7])"
      ]
     },
     "execution_count": 93,
     "metadata": {},
     "output_type": "execute_result"
    }
   ],
   "source": [
    "# this sequentiall pushes the 5, 6, 7 \n",
    "# onto the right end forcing out the 0, 1, 2\n",
    "limited_deque.extend([5, 6, 7])\n",
    "limited_deque"
   ]
  },
  {
   "cell_type": "code",
   "execution_count": 94,
   "id": "8f74f2bb",
   "metadata": {},
   "outputs": [
    {
     "data": {
      "text/plain": [
       "deque([2, 1, 0, 3, 4])"
      ]
     },
     "execution_count": 94,
     "metadata": {},
     "output_type": "execute_result"
    }
   ],
   "source": [
    "# this sequentially pushes the 1, 2, 3\n",
    "# onto the left end forcing out the 5, 6, 7\n",
    "limited_deque.extendleft([0, 1, 2])\n",
    "limited_deque"
   ]
  },
  {
   "cell_type": "code",
   "execution_count": 95,
   "id": "9dad68a2",
   "metadata": {},
   "outputs": [
    {
     "data": {
      "text/plain": [
       "deque([3, 4, 2, 1, 0])"
      ]
     },
     "execution_count": 95,
     "metadata": {},
     "output_type": "execute_result"
    }
   ],
   "source": [
    "# this rotates elements n steps. \n",
    "limited_deque.rotate(2)\n",
    "limited_deque"
   ]
  },
  {
   "cell_type": "code",
   "execution_count": 96,
   "id": "3885cac7",
   "metadata": {},
   "outputs": [
    {
     "data": {
      "text/plain": [
       "5"
      ]
     },
     "execution_count": 96,
     "metadata": {},
     "output_type": "execute_result"
    }
   ],
   "source": [
    "# we can access the maxlen\n",
    "limited_deque.maxlen"
   ]
  },
  {
   "cell_type": "code",
   "execution_count": 97,
   "id": "4a033491",
   "metadata": {},
   "outputs": [
    {
     "data": {
      "text/plain": [
       "deque([])"
      ]
     },
     "execution_count": 97,
     "metadata": {},
     "output_type": "execute_result"
    }
   ],
   "source": [
    "limited_deque.clear()\n",
    "limited_deque"
   ]
  },
  {
   "cell_type": "code",
   "execution_count": 98,
   "id": "eb88f0f7",
   "metadata": {},
   "outputs": [
    {
     "data": {
      "text/plain": [
       "deque([3, 4, 5])"
      ]
     },
     "execution_count": 98,
     "metadata": {},
     "output_type": "execute_result"
    }
   ],
   "source": [
    "# note if the initial iterable is longer than\n",
    "# the maxlen then we only get the last n elements\n",
    "deque([1, 2, 3, 4, 5], maxlen=3)"
   ]
  },
  {
   "cell_type": "markdown",
   "id": "a2bf6952",
   "metadata": {},
   "source": [
    "### defaultdict"
   ]
  },
  {
   "cell_type": "code",
   "execution_count": 99,
   "id": "98c2820b",
   "metadata": {},
   "outputs": [],
   "source": [
    "sentence = \"\"\"imagine we want to take a sentence and store words in lists \n",
    "in a dictionary keyed on the letter that each word starts with\"\"\""
   ]
  },
  {
   "cell_type": "code",
   "execution_count": 100,
   "id": "f4246aa8",
   "metadata": {},
   "outputs": [
    {
     "data": {
      "text/plain": [
       "{'i': ['imagine', 'in'],\n",
       " 'w': ['we', 'want', 'words', 'word', 'with'],\n",
       " 't': ['to', 'take', 'the', 'that'],\n",
       " 'a': ['a', 'and', 'a'],\n",
       " 's': ['sentence', 'store', 'starts'],\n",
       " 'l': ['lists', 'letter'],\n",
       " 'd': ['dictionary'],\n",
       " 'k': ['keyed'],\n",
       " 'o': ['on'],\n",
       " 'e': ['each']}"
      ]
     },
     "execution_count": 100,
     "metadata": {},
     "output_type": "execute_result"
    }
   ],
   "source": [
    "words_by_starting_letter = {}\n",
    "for word in sentence.split(' '):\n",
    "    if word.isalpha():\n",
    "        if word[0] in words_by_starting_letter:\n",
    "            words_by_starting_letter[word[0]].append(word)\n",
    "        else:\n",
    "            words_by_starting_letter[word[0]] = [word]\n",
    "words_by_starting_letter"
   ]
  },
  {
   "cell_type": "code",
   "execution_count": 101,
   "id": "868be029",
   "metadata": {},
   "outputs": [
    {
     "data": {
      "text/plain": [
       "defaultdict(list,\n",
       "            {'i': ['imagine', 'in'],\n",
       "             'w': ['we', 'want', 'words', 'word', 'with'],\n",
       "             't': ['to', 'take', 'the', 'that'],\n",
       "             'a': ['a', 'and', 'a'],\n",
       "             's': ['sentence', 'store', 'starts'],\n",
       "             'l': ['lists', 'letter'],\n",
       "             'd': ['dictionary'],\n",
       "             'k': ['keyed'],\n",
       "             'o': ['on'],\n",
       "             'e': ['each']})"
      ]
     },
     "execution_count": 101,
     "metadata": {},
     "output_type": "execute_result"
    }
   ],
   "source": [
    "words_by_starting_letter = defaultdict(list)\n",
    "for word in sentence.split(' '):\n",
    "    if word.isalpha():\n",
    "        words_by_starting_letter[word[0]].append(word)\n",
    "words_by_starting_letter"
   ]
  },
  {
   "cell_type": "code",
   "execution_count": 102,
   "id": "e95d4f94",
   "metadata": {},
   "outputs": [
    {
     "data": {
      "text/plain": [
       "{'i': ['imagine', 'in'],\n",
       " 'w': ['we', 'want', 'words', 'word', 'with'],\n",
       " 't': ['to', 'take', 'the', 'that'],\n",
       " 'a': ['a', 'and', 'a'],\n",
       " 's': ['sentence', 'store', 'starts'],\n",
       " 'l': ['lists', 'letter'],\n",
       " 'd': ['dictionary'],\n",
       " 'k': ['keyed'],\n",
       " 'o': ['on'],\n",
       " 'e': ['each']}"
      ]
     },
     "execution_count": 102,
     "metadata": {},
     "output_type": "execute_result"
    }
   ],
   "source": [
    "# Note you can also use this formulation in some circumstances.\n",
    "words_by_starting_letter = {}\n",
    "for word in sentence.split(' '):\n",
    "    if word.isalpha():\n",
    "        words_by_starting_letter.setdefault(word[0], []).append(word)\n",
    "words_by_starting_letter"
   ]
  },
  {
   "cell_type": "code",
   "execution_count": 104,
   "id": "729d8dc4",
   "metadata": {},
   "outputs": [
    {
     "data": {
      "text/plain": [
       "[('i', 4), ('m', 1), ('p', 2), ('s', 4)]"
      ]
     },
     "execution_count": 104,
     "metadata": {},
     "output_type": "execute_result"
    }
   ],
   "source": [
    "# An example from the offical docs:\n",
    "s = 'mississippi'\n",
    "d = defaultdict(int)\n",
    "for k in s:\n",
    "    d[k] += 1\n",
    "\n",
    "sorted(d.items())\n"
   ]
  },
  {
   "cell_type": "markdown",
   "id": "ea3f2f61",
   "metadata": {},
   "source": [
    "### named tuple"
   ]
  },
  {
   "cell_type": "markdown",
   "id": "ef0034c4",
   "metadata": {},
   "source": [
    "Named tuples assign meaning to each position in a tuple and allow for more readable, self-documenting code. "
   ]
  },
  {
   "cell_type": "code",
   "execution_count": 123,
   "id": "0d8e3a5b",
   "metadata": {},
   "outputs": [],
   "source": [
    "simon = ('Simon Ward-Jones', 'Data Scientist', 180)"
   ]
  },
  {
   "cell_type": "code",
   "execution_count": 124,
   "id": "723e04b4",
   "metadata": {},
   "outputs": [],
   "source": [
    "def display_employee(employee):\n",
    "    print(f\"Employee {employee[0]} is a {employee[1]}\"\n",
    "          f\" and is {employee[2]} cm tall\")"
   ]
  },
  {
   "cell_type": "code",
   "execution_count": 125,
   "id": "40c908c1",
   "metadata": {},
   "outputs": [
    {
     "name": "stdout",
     "output_type": "stream",
     "text": [
      "Employee Simon Ward-Jones is a Data Scientist and is 180 cm tall\n"
     ]
    }
   ],
   "source": [
    "display_employee(simon)"
   ]
  },
  {
   "cell_type": "code",
   "execution_count": 138,
   "id": "30acac6a",
   "metadata": {},
   "outputs": [],
   "source": [
    "Employee = namedtuple(\"Employee\", \"name job_title height\")"
   ]
  },
  {
   "cell_type": "code",
   "execution_count": 139,
   "id": "ec82f87e",
   "metadata": {},
   "outputs": [],
   "source": [
    "Employee = namedtuple(\"Employee\",[\"name\", \"job_title\", \"height\"])"
   ]
  },
  {
   "cell_type": "code",
   "execution_count": 140,
   "id": "db1333d6",
   "metadata": {},
   "outputs": [],
   "source": [
    "simon = Employee(name='Simon Ward-Jones', \n",
    "                 job_title='Data Scientist',\n",
    "                 height=180)"
   ]
  },
  {
   "cell_type": "code",
   "execution_count": 151,
   "id": "e4587ecd",
   "metadata": {},
   "outputs": [
    {
     "data": {
      "text/plain": [
       "Employee(name='Simon Ward-Jones', job_title='Data Scientist', height=180)"
      ]
     },
     "execution_count": 151,
     "metadata": {},
     "output_type": "execute_result"
    }
   ],
   "source": []
  },
  {
   "cell_type": "code",
   "execution_count": 152,
   "id": "c4a33915",
   "metadata": {},
   "outputs": [],
   "source": [
    "def display_employee(employee):\n",
    "    print(f\"Employee {employee.name} is a {employee.job_title}\"\n",
    "          f\" and is {employee.height} cm tall\")"
   ]
  },
  {
   "cell_type": "code",
   "execution_count": 153,
   "id": "1c0a6b14",
   "metadata": {},
   "outputs": [
    {
     "name": "stdout",
     "output_type": "stream",
     "text": [
      "Employee Simon Ward-Jones is a Data Scientist and is 180 cm tall\n"
     ]
    }
   ],
   "source": [
    "display_employee(simon)"
   ]
  },
  {
   "cell_type": "code",
   "execution_count": 154,
   "id": "a4d5e273",
   "metadata": {},
   "outputs": [
    {
     "data": {
      "text/plain": [
       "{'name': 'Simon Ward-Jones', 'job_title': 'Data Scientist', 'height': 180}"
      ]
     },
     "execution_count": 154,
     "metadata": {},
     "output_type": "execute_result"
    }
   ],
   "source": [
    "simon._asdict()"
   ]
  },
  {
   "cell_type": "code",
   "execution_count": 155,
   "id": "e43b86c8",
   "metadata": {},
   "outputs": [
    {
     "data": {
      "text/plain": [
       "Employee(name='Simon Ward-Jones', job_title='Data Scientist', height=183)"
      ]
     },
     "execution_count": 155,
     "metadata": {},
     "output_type": "execute_result"
    }
   ],
   "source": [
    "taller_simon = simon._replace(height=183)\n",
    "taller_simon"
   ]
  },
  {
   "cell_type": "code",
   "execution_count": 156,
   "id": "1712b56b",
   "metadata": {},
   "outputs": [
    {
     "data": {
      "text/plain": [
       "('name', 'job_title', 'height')"
      ]
     },
     "execution_count": 156,
     "metadata": {},
     "output_type": "execute_result"
    }
   ],
   "source": [
    "simon._fields"
   ]
  },
  {
   "cell_type": "code",
   "execution_count": 157,
   "id": "3efca117",
   "metadata": {},
   "outputs": [],
   "source": [
    "# We can also do the same thing using the typing.NamedTuple"
   ]
  },
  {
   "cell_type": "code",
   "execution_count": 158,
   "id": "e50f9e97",
   "metadata": {},
   "outputs": [],
   "source": [
    "from typing import NamedTuple"
   ]
  },
  {
   "cell_type": "code",
   "execution_count": 159,
   "id": "ed5f5318",
   "metadata": {},
   "outputs": [],
   "source": [
    "class Employee(NamedTuple):\n",
    "    name: str\n",
    "    job_title : str\n",
    "    height : float"
   ]
  },
  {
   "cell_type": "code",
   "execution_count": 160,
   "id": "3bc02c2b",
   "metadata": {},
   "outputs": [],
   "source": [
    "simon = Employee(name='Simon Ward-Jones', \n",
    "                 job_title='Data Scientist',\n",
    "                 height=180)"
   ]
  },
  {
   "cell_type": "code",
   "execution_count": 161,
   "id": "11bc6631",
   "metadata": {},
   "outputs": [
    {
     "data": {
      "text/plain": [
       "Employee(name='Simon Ward-Jones', job_title='Data Scientist', height=180)"
      ]
     },
     "execution_count": 161,
     "metadata": {},
     "output_type": "execute_result"
    }
   ],
   "source": [
    "simon"
   ]
  },
  {
   "cell_type": "markdown",
   "id": "9257e5f5",
   "metadata": {},
   "source": [
    "### OrderedDict objects"
   ]
  },
  {
   "cell_type": "markdown",
   "id": "a252edf4",
   "metadata": {},
   "source": [
    "Ordered dictionaries are just like regular dictionaries but have some extra capabilities relating to ordering operations. They have become less important now that the built-in dict class gained the ability to remember insertion order (this new behavior became guaranteed in Python 3.7)."
   ]
  },
  {
   "cell_type": "markdown",
   "id": "a482739a",
   "metadata": {},
   "source": [
    "# Fin."
   ]
  }
 ],
 "metadata": {
  "kernelspec": {
   "display_name": "Python 3 (ipykernel)",
   "language": "python",
   "name": "python3"
  },
  "language_info": {
   "codemirror_mode": {
    "name": "ipython",
    "version": 3
   },
   "file_extension": ".py",
   "mimetype": "text/x-python",
   "name": "python",
   "nbconvert_exporter": "python",
   "pygments_lexer": "ipython3",
   "version": "3.10.2"
  },
  "toc": {
   "base_numbering": 1,
   "nav_menu": {},
   "number_sections": true,
   "sideBar": true,
   "skip_h1_title": false,
   "title_cell": "Table of Contents",
   "title_sidebar": "Contents",
   "toc_cell": false,
   "toc_position": {},
   "toc_section_display": true,
   "toc_window_display": false
  }
 },
 "nbformat": 4,
 "nbformat_minor": 5
}
